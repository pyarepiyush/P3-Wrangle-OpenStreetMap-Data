{
 "cells": [
  {
   "cell_type": "markdown",
   "metadata": {},
   "source": [
    "# P3: Wrangle OpenStreetMap Data with MongoDB\n",
    "## By: Piyush Neupane\n",
    "#### Data Analyst NanoDegree\n",
    "\n",
    "---\n",
    "**Map Area:** San Francisco Metro, California, United States\n",
    "\n",
    "Link to MapZen Metro Extracts page for [San Francisco](https://mapzen.com/data/metro-extracts/metro/san-francisco_california/).\n",
    "\n"
   ]
  },
  {
   "cell_type": "markdown",
   "metadata": {},
   "source": [
    "## 1. Problems Encountered in the Map data\n",
    "\n",
    "During the Audit of the OpenStreetMap data, following problems were encountered:\n",
    "\n",
    "1. Inconsistent address types:<br>\n",
    "> Address values can have more than more variations, including abbreviations. For example, Address can either end with Road or Rd.  \n",
    "\n",
    "2. Inconsistent county value:<br>\n",
    "> County names are either stand-alone or might be followed by the state abbreviation after a comma.<br>\n",
    "\n",
    "3. Inconsistent zip-code values:<br>\n",
    "> Zip codes or Postal Codes are sometimes concatenated together as a single string. They're usually separated by semicolon(;). For example: <font color=green>94605; 94619</font><br>\n",
    "\n",
    "4. Keys prefixed with either 'tiger', 'gnis' or no prefix at all:<br>\n",
    "> Fields representing similar concepts might have different prefixes.<br>"
   ]
  },
  {
   "cell_type": "markdown",
   "metadata": {},
   "source": [
    "### FIXES PERFORMED \n",
    "\n",
    "#### Perform Street update\n",
    "\n",
    "Different variations of street types were standardized by building a mapping between non-standard values and desired values. Then the non-standard values (such as Rd, St, Ave, Blvd, etc.) were replaced with standard values (Road, Street, Avenue, Boulevard, respectively).\n",
    "\n",
    "#### Perform county names update\n",
    "\n",
    "County Names sometimes were followed by the state abbreviation (CA is this case). So, the state abberviation was removed from the county name.\n",
    "\n",
    "#### Perform zip code update\n",
    "Some zip-code values were concatenated together separated by a semicolon. For these cases, first zip-code in the string seemed like the primary zip. So, only the first zip-code was retained and remaining was discarded.\n",
    "\n",
    "#### Group all address-related values\n",
    "All fields related to address were lumped together in a nested dictionary 'address' to be later uploaded into the database.\n",
    "\n",
    "\n",
    "#### Loading the cleaned data into MongoDB\n",
    "After cleaning up the data in Python, it is saved in JSON format. This file is then uploaded to MongoDB. Here is the MongoDB instance:"
   ]
  },
  {
   "cell_type": "code",
   "execution_count": 2,
   "metadata": {
    "collapsed": true
   },
   "outputs": [],
   "source": [
    "import pprint\n",
    "\n",
    "# Get db function\n",
    "def get_db(db_name):\n",
    "    from pymongo import MongoClient\n",
    "    client = MongoClient(\"mongodb://localhost:27017\")\n",
    "    db = client[db_name]\n",
    "    return db\n",
    "\n",
    "db = get_db('osm_col')"
   ]
  },
  {
   "cell_type": "markdown",
   "metadata": {},
   "source": [
    "## 2. Data Overview\n",
    "\n",
    "This part lists some basic statistics of the OSM data uploaded into MongoDB:\n",
    "\n",
    "\n",
    "**File size statistics**\n",
    "```\n",
    "san-francisco_california.osm --> 1.17 GB\n",
    "sf_sample.osm --> 119 MB\n",
    "sf_sample.json --> 137 MB\n",
    "```\n",
    "\n",
    "** Total number of Documents **"
   ]
  },
  {
   "cell_type": "code",
   "execution_count": 3,
   "metadata": {
    "collapsed": false
   },
   "outputs": [
    {
     "data": {
      "text/plain": [
       "1265388"
      ]
     },
     "execution_count": 3,
     "metadata": {},
     "output_type": "execute_result"
    }
   ],
   "source": [
    "db.osm_col.find().count()"
   ]
  },
  {
   "cell_type": "markdown",
   "metadata": {},
   "source": [
    "** Total number of nodes **"
   ]
  },
  {
   "cell_type": "code",
   "execution_count": 4,
   "metadata": {
    "collapsed": false
   },
   "outputs": [
    {
     "data": {
      "text/plain": [
       "1129186"
      ]
     },
     "execution_count": 4,
     "metadata": {},
     "output_type": "execute_result"
    }
   ],
   "source": [
    "db.osm_col.find({\"type\": \"node\"}).count()"
   ]
  },
  {
   "cell_type": "markdown",
   "metadata": {},
   "source": [
    "** Total number of ways **"
   ]
  },
  {
   "cell_type": "code",
   "execution_count": 5,
   "metadata": {
    "collapsed": false
   },
   "outputs": [
    {
     "data": {
      "text/plain": [
       "136172"
      ]
     },
     "execution_count": 5,
     "metadata": {},
     "output_type": "execute_result"
    }
   ],
   "source": [
    "db.osm_col.find({\"type\": \"way\"}).count()"
   ]
  },
  {
   "cell_type": "markdown",
   "metadata": {},
   "source": [
    "#### Top 10 Users with most contributions "
   ]
  },
  {
   "cell_type": "code",
   "execution_count": 6,
   "metadata": {
    "collapsed": false
   },
   "outputs": [
    {
     "name": "stdout",
     "output_type": "stream",
     "text": [
      "db:  Database(MongoClient(host=['localhost:27017'], document_class=dict, tz_aware=False, connect=True), u'osm_col')\n",
      "osm collection : Collection(Database(MongoClient(host=['localhost:27017'], document_class=dict, tz_aware=False, connect=True), u'osm_col'), u'osm_col')\n",
      "---------------------------------------\n",
      "[{u'_id': u'ediyes', u'count': 183580},\n",
      " {u'_id': u'Luis36995', u'count': 142022},\n",
      " {u'_id': u'andygol', u'count': 128228},\n",
      " {u'_id': u'RichRico', u'count': 79884},\n",
      " {u'_id': u'Rub21', u'count': 78942},\n",
      " {u'_id': u'dannykath', u'count': 71492},\n",
      " {u'_id': u'calfarome', u'count': 37134},\n",
      " {u'_id': u'oldtopos', u'count': 33742},\n",
      " {u'_id': u'KindredCoda', u'count': 29948},\n",
      " {u'_id': u'karitotp', u'count': 26924}]\n"
     ]
    }
   ],
   "source": [
    "\n",
    "def make_pipeline():\n",
    "    # complete the aggregation pipeline\n",
    "    pipeline = [\n",
    "        {\"$group\"   :   {\"_id\"    :   \"$created.user\",\n",
    "                         \"count\"    :   {\"$sum\" :   1} \n",
    "                        } },\n",
    "        {\"$sort\"    :   {\"count\"    :   -1} },\n",
    "        {\"$limit\"   :   10}        \n",
    "        ]\n",
    "    return pipeline\n",
    "\n",
    "def aggregate(db, pipeline):\n",
    "    return [doc for doc in db.osm_col.aggregate(pipeline)]\n",
    "\n",
    "if __name__ == '__main__':\n",
    "    db = get_db('osm_col')\n",
    "    print 'db: ',db\n",
    "    print 'osm collection :',db.osm_col\n",
    "    print '---------------------------------------'\n",
    "    pipeline = make_pipeline()\n",
    "    result = aggregate(db, pipeline)\n",
    "    #print result\n",
    "    pprint.pprint(result)"
   ]
  },
  {
   "cell_type": "markdown",
   "metadata": {},
   "source": [
    "#### Top 10  most commonly occuring Street Addresses"
   ]
  },
  {
   "cell_type": "code",
   "execution_count": 7,
   "metadata": {
    "collapsed": false
   },
   "outputs": [
    {
     "name": "stdout",
     "output_type": "stream",
     "text": [
      "[{u'_id': u'Irving Street', u'count': 164},\n",
      " {u'_id': u'9th Avenue', u'count': 116},\n",
      " {u'_id': u'El Camino Real', u'count': 96},\n",
      " {u'_id': u'Page Street', u'count': 94},\n",
      " {u'_id': u'Broadway', u'count': 94},\n",
      " {u'_id': u'14th Avenue', u'count': 84},\n",
      " {u'_id': u'12th Avenue', u'count': 82},\n",
      " {u'_id': u'11th Avenue', u'count': 82},\n",
      " {u'_id': u'Church Street', u'count': 78},\n",
      " {u'_id': u'10th Avenue', u'count': 76}]\n"
     ]
    }
   ],
   "source": [
    "def make_pipeline():\n",
    "    # complete the aggregation pipeline\n",
    "    pipeline = [\n",
    "        {\"$match\"   :   {\"address.street\" : {\"$ne\" : None} } } ,\n",
    "        {\"$group\"   :   {\"_id\"    :   \"$address.street\",\n",
    "                         \"count\"    :   {\"$sum\" :   1} \n",
    "                        } },\n",
    "        {\"$sort\"    :   {\"count\"    :   -1} },\n",
    "        {\"$limit\"   :   10}        \n",
    "        ]\n",
    "    return pipeline\n",
    "\n",
    "def aggregate(db, pipeline):\n",
    "    return [doc for doc in db.osm_col.aggregate(pipeline)]\n",
    "\n",
    "if __name__ == '__main__':\n",
    "    db = get_db('osm_col')\n",
    "    pipeline = make_pipeline()\n",
    "    result = aggregate(db, pipeline)\n",
    "    #print result\n",
    "    pprint.pprint(result)"
   ]
  },
  {
   "cell_type": "markdown",
   "metadata": {},
   "source": [
    "#### Which street has most number of selected amenity types?"
   ]
  },
  {
   "cell_type": "code",
   "execution_count": 8,
   "metadata": {
    "collapsed": false
   },
   "outputs": [
    {
     "name": "stdout",
     "output_type": "stream",
     "text": [
      "[{u'_id': u'school', u'address': u'19th Avenue', u'count': 4},\n",
      " {u'_id': u'restaurant', u'address': u'El Camino Real', u'count': 12},\n",
      " {u'_id': u'place_of_worship', u'address': u'Ralston Avenue', u'count': 2},\n",
      " {u'_id': u'fast_food', u'address': u'Haight Street', u'count': 6},\n",
      " {u'_id': u'cafe', u'address': u'Irving Street', u'count': 8},\n",
      " {u'_id': u'bar', u'address': u'19th Street', u'count': 4}]\n"
     ]
    }
   ],
   "source": [
    "def make_pipeline():\n",
    "    # complete the aggregation pipeline\n",
    "    pipeline = [\n",
    "        {\"$match\"   :   {\n",
    "                        \"amenity\" :{\"$in\": [\"restaurant\",\"place_of_worship\", \"school\",\"fast_food\",\"bar\",\"cafe\"] },\n",
    "                        \"address.street\" : {\"$ne\" : None} \n",
    "                        } \n",
    "        },\n",
    "        {\"$group\"   :   {\"_id\"    :   {\"amenity\": \"$amenity\", \"street\" : \"$address.street\"},\n",
    "                         \"count\"    :   {\"$sum\" :   1}\n",
    "                        } },\n",
    "        {\"$sort\"    :   {\"_id.amenity\": 1, \"count\" : -1}},\n",
    "        {\"$group\"   :   {\"_id\" : \"$_id.amenity\",\n",
    "                         \"address\" : {\"$first\" : \"$_id.street\"},\n",
    "                         \"count\" : {\"$first\" : \"$count\"},\n",
    "                         \n",
    "                        }}\n",
    "        ]\n",
    "    return pipeline\n",
    "\n",
    "def aggregate(db, pipeline):\n",
    "    return [doc for doc in db.osm_col.aggregate(pipeline)]\n",
    "\n",
    "if __name__ == '__main__':\n",
    "    db = get_db('osm_col')\n",
    "    pipeline = make_pipeline()\n",
    "    result = aggregate(db, pipeline)\n",
    "    pprint.pprint(result)"
   ]
  },
  {
   "cell_type": "markdown",
   "metadata": {},
   "source": [
    "#### What are the most commonly occuring building-levels"
   ]
  },
  {
   "cell_type": "code",
   "execution_count": 9,
   "metadata": {
    "collapsed": false
   },
   "outputs": [
    {
     "name": "stdout",
     "output_type": "stream",
     "text": [
      "[{u'_id': 2, u'count': 138},\n",
      " {u'_id': 3, u'count': 116},\n",
      " {u'_id': 4, u'count': 76},\n",
      " {u'_id': 1, u'count': 72},\n",
      " {u'_id': 5, u'count': 24},\n",
      " {u'_id': 7, u'count': 16},\n",
      " {u'_id': 10, u'count': 14},\n",
      " {u'_id': 6, u'count': 12},\n",
      " {u'_id': 9, u'count': 10},\n",
      " {u'_id': 8, u'count': 8}]\n"
     ]
    }
   ],
   "source": [
    "def make_pipeline():\n",
    "    # complete the aggregation pipeline\n",
    "    pipeline = [\n",
    "        {\"$match\"   :   {\"building:levels\" : {\"$ne\" : None} } } ,\n",
    "\n",
    "        {\"$group\"   :   {\"_id\"    :   \"$building:levels\",\n",
    "                         \"count\"    :   {\"$sum\" :   1} \n",
    "                        } },\n",
    "        {\"$sort\"    :   {\"count\"    :   -1} },\n",
    "        {\"$limit\"   :   10} \n",
    "        ]\n",
    "    return pipeline\n",
    "\n",
    "def aggregate(db, pipeline):\n",
    "    return [doc for doc in db.osm_col.aggregate(pipeline)]\n",
    "\n",
    "if __name__ == '__main__':\n",
    "    db = get_db('osm_col')\n",
    "    pipeline = make_pipeline()\n",
    "    result = aggregate(db, pipeline)\n",
    "    #print result\n",
    "    pprint.pprint(result)"
   ]
  },
  {
   "cell_type": "markdown",
   "metadata": {},
   "source": [
    "\n",
    "#### How many stories in average does each type of building have?\n",
    "\n"
   ]
  },
  {
   "cell_type": "code",
   "execution_count": 10,
   "metadata": {
    "collapsed": false
   },
   "outputs": [
    {
     "name": "stdout",
     "output_type": "stream",
     "text": [
      "[{u'_id': u'hotel', u'avg': 36.0},\n",
      " {u'_id': u'office', u'avg': 9.0},\n",
      " {u'_id': u'dormitory', u'avg': 9.0},\n",
      " {u'_id': u'yes', u'avg': 6.285714285714286},\n",
      " {u'_id': u'condominiums', u'avg': 6.0},\n",
      " {u'_id': u'hangar', u'avg': 5.0},\n",
      " {u'_id': u'hospital', u'avg': 4.666666666666667},\n",
      " {u'_id': u'university', u'avg': 4.5},\n",
      " {u'_id': u'mixed_use', u'avg': 4.0},\n",
      " {u'_id': u'apartments', u'avg': 3.3333333333333335},\n",
      " {u'_id': u'museum', u'avg': 3.0},\n",
      " {u'_id': u'UCB_Recreation_Offices', u'avg': 3.0},\n",
      " {u'_id': u'residential', u'avg': 3.0},\n",
      " {u'_id': u'commercial', u'avg': 2.888888888888889},\n",
      " {u'_id': u'terrace', u'avg': 2.7777777777777777},\n",
      " {u'_id': u'house', u'avg': 2.2413793103448274},\n",
      " {u'_id': u'school', u'avg': 2.0},\n",
      " {u'_id': u'church', u'avg': 2.0},\n",
      " {u'_id': u'Urban_Pioneer', u'avg': 2.0},\n",
      " {u'_id': u'industrial', u'avg': 1.6666666666666667},\n",
      " {u'_id': u'retail', u'avg': 1.5},\n",
      " {u'_id': u'abandoned', u'avg': 1.3333333333333333},\n",
      " {u'_id': u'public', u'avg': 1.0}]\n"
     ]
    }
   ],
   "source": [
    "def make_pipeline():\n",
    "    # complete the aggregation pipeline\n",
    "    pipeline = [\n",
    "        {\"$match\"   :   {\"building:levels\" : {\"$gt\" : 0},\n",
    "                         \"building\" : {\"$nin\": [None,\"Yes\"]}\n",
    "                        } } ,\n",
    "\n",
    "\n",
    "        {\"$group\"   :   {\"_id\"    :   \"$building\",\n",
    "                         \"avg\"    :   {\"$avg\" :  \"$building:levels\"} \n",
    "                        } },\n",
    "        {\"$sort\"    :   {\"avg\"    :   -1} }  \n",
    "        ]\n",
    "    return pipeline\n",
    "\n",
    "def aggregate(db, pipeline):\n",
    "    return [doc for doc in db.osm_col.aggregate(pipeline)]\n",
    "\n",
    "if __name__ == '__main__':\n",
    "    db = get_db('osm_col')\n",
    "    pipeline = make_pipeline()\n",
    "    result = aggregate(db, pipeline)\n",
    "    #print result\n",
    "    pprint.pprint(result)"
   ]
  },
  {
   "cell_type": "markdown",
   "metadata": {},
   "source": [
    "## 3. Additional Ideas\n",
    "\n",
    "To reduce instances of inconsistent address data, there should be an automatic check to accept or reject the change. For example, if the user enters street address with abbreviated 'Rd', the system identifies this and either suggests a corrected value 'Road', or rejects it altogether.\n",
    "\n",
    "OpenStreetMaps can also introduce novel ideas that gets people excited about this app. It can introduce geo-tagging or treasure-hunt type of games that involves the players solving location-based puzzles, as individuals, or as groups. It can award more points to users/teams that contribute the most. A mobile app can be provided that users can 'tag' the location with and add other details about that location. This will create a truly crowd-sourced effort to improve its data.\n",
    "\n",
    "The document also provides location for various types of amenities (restaurants, schools, etc.). It will be helpful to include the ratings provided by users for these places, and other useful information such as Business Hours, price-range, etc. This way, more and more people will start using this app and they will also have incentive to start contributing more.\n",
    "\n",
    "\n",
    "\n",
    "\n",
    "## 4. Conclusion\n",
    "\n",
    "Given competition from other 'free' map services from Google, Apple, etc, OpenStreeMaps need to incentivize its users to contribute more. There are handful of uses that seem to contribute bulk of the map data. However, given the scope and size of this project, it needs to attract attention of wider variety of population. It also need to take steps to ensure correctness and validation of the data.\n",
    "\n",
    "I think OpenStreetMaps has the potential to carve out its own niche, and stand out among other well-established mapping services.\n"
   ]
  }
 ],
 "metadata": {
  "anaconda-cloud": {},
  "kernelspec": {
   "display_name": "Python [default]",
   "language": "python",
   "name": "python2"
  },
  "language_info": {
   "codemirror_mode": {
    "name": "ipython",
    "version": 2
   },
   "file_extension": ".py",
   "mimetype": "text/x-python",
   "name": "python",
   "nbconvert_exporter": "python",
   "pygments_lexer": "ipython2",
   "version": "2.7.12"
  }
 },
 "nbformat": 4,
 "nbformat_minor": 1
}
